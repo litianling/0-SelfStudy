{
 "cells": [
  {
   "cell_type": "code",
   "execution_count": null,
   "metadata": {},
   "outputs": [],
   "source": [
    "import cv2\n",
    "import numpy as np\n",
    "import face_recognition\n",
    "from PIL import Image as PIL_Image\n",
    "from pynq import Overlay\n",
    "from pynq import GPIO\n",
    "from IPython.display import clear_output as clear\n",
    "import matplotlib.pyplot as plt\n",
    "import time\n",
    "from pynq.lib.video import *"
   ]
  },
  {
   "cell_type": "code",
   "execution_count": null,
   "metadata": {},
   "outputs": [],
   "source": [
    "displayport = DisplayPort()  # 设置视频输出端口与分辨率\n",
    "displayport.configure(VideoMode(1280, 720, 24), PIXEL_RGB)\n",
    "\n",
    "ol = Overlay('/home/xilinx/pynq/overlays/GPIO/design_1.bit')\n",
    "LED0 = GPIO(GPIO.get_gpio_pin(0),'out')\n",
    "LED1 = GPIO(GPIO.get_gpio_pin(1),'out')\n",
    "LED2 = GPIO(GPIO.get_gpio_pin(2),'out')\n",
    "LED3 = GPIO(GPIO.get_gpio_pin(3),'out')"
   ]
  },
  {
   "cell_type": "code",
   "execution_count": null,
   "metadata": {},
   "outputs": [],
   "source": [
    "# GPIO输出，1输出3.3V，0输出GND。共阳极0亮1灭\n",
    "def GPIO_Voltage(val):\n",
    "    LED0.write(val)\n",
    "    LED1.write(val)\n",
    "    LED2.write(val)\n",
    "    LED3.write(val)\n",
    "\n",
    "# 摄像头捕获图片\n",
    "def picture_capture():\n",
    "    capture = cv2.VideoCapture(0)                                                       # 设置视频捕获端口与分辨率\n",
    "    capture.set(3, 1280)\n",
    "    capture.set(4, 720)\n",
    "    frame = displayport.newframe()                                                      # 新建空白帧\n",
    "    capture.read(frame)                                                                 # 向空白帧写入数据——未处理图像\n",
    "    capture.release()                                                                   # 关闭捕获端口\n",
    "    return frame\n",
    "    \n",
    "# 人脸识别的主体\n",
    "def faceRecognition():\n",
    "    frame = picture_capture()\n",
    "    \n",
    "    frameRGB = cv2.cvtColor(src=frame, code=cv2.COLOR_BGR2RGB)\n",
    "    facesLocate = face_recognition.face_locations(frameRGB)                             # 对摄像头读取的检测人脸\n",
    "    faceEncoded = face_recognition.face_encodings(frameRGB, facesLocate)                # 进行特征编码\n",
    "    \n",
    "    name = 'unknow'\n",
    "    lab = 'unknow'\n",
    "    color1 = (0, 255, 0)                                                                # 初始化面部捕捉框显示绿色\n",
    "    \n",
    "    for (top, right, bottom, left), face_encoding in zip(facesLocate, faceEncoded):    # 遍历检测的人脸和库中读取的图片进行对比，计算其相似度\n",
    "        matchs = face_recognition.compare_faces(EncodeingList, face_encoding)           # 进行匹配\n",
    "        distance = face_recognition.face_distance(EncodeingList, face_encoding)         # 计算相似度\n",
    "        for index, item in enumerate(distance):\n",
    "            Similarity = 1 - item\n",
    "            if Similarity > 0.5:\n",
    "                if matchs[index]:\n",
    "                    lab = 'name:{}; Similarity:{}'.format(classNames[index], Similarity)  # 得到匹配到的图片名称与相似度值\n",
    "                    break\n",
    "        \n",
    "        cv2.rectangle(img=frame, pt1=(left, top), pt2=(right, bottom), color=color1, thickness=3)       # 绘制画面部捕捉框\n",
    "        cv2.putText(frame, lab, (left, top - 8), cv2.FONT_HERSHEY_SIMPLEX, 0.7, color1, 2)              # 在捕捉框上添加匹配到的图片信息\n",
    "        # cv2.imwrite('{}/{}.png'.format(picture_path, name), frame)                                      # 保存图片\n",
    "    displayport.writeframe(frame)                                                                   # 输出图像帧——处理过的\n",
    "    frame = []\n",
    "    \n",
    "    print(lab)                                                                          # 输出识别信息\n",
    "    if lab is 'unknow':\n",
    "        GPIO_Voltage(1)\n",
    "    else:\n",
    "        GPIO_Voltage(0)"
   ]
  },
  {
   "cell_type": "code",
   "execution_count": null,
   "metadata": {},
   "outputs": [],
   "source": [
    "if __name__ == '__main__':\n",
    "    EncodeingList = np.load('database/EncodeingList.npz')       # 导入数据库_______数据库所有图像编码集合\n",
    "    EncodeingList = EncodeingList['arr_0']\n",
    "    classNames = np.load('database/classNames.npz')             # 导入数据库_______数据库所有图像的名称（分类）\n",
    "    classNames = classNames['arr_0']\n",
    "    while 1:\n",
    "        faceRecognition()                                       # 人脸识别"
   ]
  },
  {
   "cell_type": "code",
   "execution_count": null,
   "metadata": {},
   "outputs": [],
   "source": []
  }
 ],
 "metadata": {
  "kernelspec": {
   "display_name": "Python 3",
   "language": "python",
   "name": "python3"
  },
  "language_info": {
   "codemirror_mode": {
    "name": "ipython",
    "version": 3
   },
   "file_extension": ".py",
   "mimetype": "text/x-python",
   "name": "python",
   "nbconvert_exporter": "python",
   "pygments_lexer": "ipython3",
   "version": "3.6.5"
  }
 },
 "nbformat": 4,
 "nbformat_minor": 2
}
