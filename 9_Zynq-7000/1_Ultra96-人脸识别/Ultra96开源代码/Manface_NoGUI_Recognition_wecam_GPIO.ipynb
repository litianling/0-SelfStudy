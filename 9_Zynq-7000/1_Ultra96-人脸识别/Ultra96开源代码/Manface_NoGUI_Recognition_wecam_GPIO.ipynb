{
 "cells": [
  {
   "cell_type": "code",
   "execution_count": 1,
   "metadata": {},
   "outputs": [
    {
     "data": {
      "application/javascript": [
       "\n",
       "require(['notebook/js/codecell'], function(codecell) {\n",
       "  codecell.CodeCell.options_default.highlight_modes[\n",
       "      'magic_text/x-csrc'] = {'reg':[/^%%microblaze/]};\n",
       "  Jupyter.notebook.events.one('kernel_ready.Kernel', function(){\n",
       "      Jupyter.notebook.get_cells().map(function(cell){\n",
       "          if (cell.cell_type == 'code'){ cell.auto_highlight(); } }) ;\n",
       "  });\n",
       "});\n"
      ]
     },
     "metadata": {},
     "output_type": "display_data"
    }
   ],
   "source": [
    "import cv2\n",
    "import numpy as np\n",
    "import face_recognition\n",
    "from PIL import Image as PIL_Image\n",
    "from pynq import Overlay\n",
    "from pynq import GPIO\n",
    "from IPython.display import clear_output as clear\n",
    "import matplotlib.pyplot as plt\n",
    "import time\n",
    "\n",
    "picture_path = 'Picture_datatest/DATAtest.jpg'      # 要识别的图片路径\n",
    "ol = Overlay('/home/xilinx/pynq/overlays/GPIO/design_1.bit')\n",
    "LED0 = GPIO(GPIO.get_gpio_pin(0),'out')\n",
    "LED1 = GPIO(GPIO.get_gpio_pin(1),'out')\n",
    "LED2 = GPIO(GPIO.get_gpio_pin(2),'out')\n",
    "LED3 = GPIO(GPIO.get_gpio_pin(3),'out')"
   ]
  },
  {
   "cell_type": "code",
   "execution_count": null,
   "metadata": {},
   "outputs": [],
   "source": [
    "# GPIO输出，1输出3.3V，0输出GND。共阳极0亮1灭\n",
    "def LED_Voltage(val):\n",
    "    LED0.write(val)\n",
    "    LED1.write(val)\n",
    "    LED2.write(val)\n",
    "    LED3.write(val)\n",
    "\n",
    "# 摄像头采集并保存图片\n",
    "def webcampicture(picture_path):\n",
    "    !fswebcam  --no-banner --save {picture_path} -d /dev/video0 2> /dev/null\n",
    "\n",
    "# 人脸识别的主体\n",
    "def faceRecognition(picture_path):\n",
    "    frame = cv2.imread(picture_path)                                                    # 读取待识别图片\n",
    "    frameRGB = cv2.cvtColor(src=frame, code=cv2.COLOR_BGR2RGB)\n",
    "    clear()                                                                             # 清除上一次拍的照片与识别数据\n",
    "    plt.imshow(frameRGB)                                                                # 显示图片\n",
    "    plt.show()\n",
    "    facesLocate = face_recognition.face_locations(frameRGB)                             # 对摄像头读取的检测人脸\n",
    "    faceEncoded = face_recognition.face_encodings(frameRGB, facesLocate)                # 进行特征编码\n",
    "    lab = 'unknow'\n",
    "    for face_encoding in faceEncoded:                                                   # 遍历检测的人脸和库中读取的图片进行对比，计算其相似度\n",
    "        matchs = face_recognition.compare_faces(EncodeingList, face_encoding)           # 进行匹配\n",
    "        distance = face_recognition.face_distance(EncodeingList, face_encoding)         # 计算相似度\n",
    "        for index, item in enumerate(distance):\n",
    "            Similarity = 1 - item\n",
    "            if Similarity > 0.6:\n",
    "                if matchs[index]:\n",
    "                    lab = 'name:{}; Similarity:{}'.format(classNames[index], Similarity)  # 得到匹配到的图片名称与相似度值\n",
    "                    break\n",
    "        print(lab)                                                                        # 输出识别信息\n",
    "        if lab is 'unknow':\n",
    "            LED_Voltage(1)\n",
    "        else:\n",
    "            LED_Voltage(0)\n",
    "            time.sleep(5)\n",
    "            LED_Voltage(1)"
   ]
  },
  {
   "cell_type": "code",
   "execution_count": null,
   "metadata": {},
   "outputs": [],
   "source": [
    "if __name__ == '__main__':\n",
    "    EncodeingList = np.load('database/EncodeingList.npz')       # 导入数据库_______数据库所有图像编码集合\n",
    "    EncodeingList = EncodeingList['arr_0']\n",
    "    classNames = np.load('database/classNames.npz')             # 导入数据库_______数据库所有图像的名称（分类）\n",
    "    classNames = classNames['arr_0']\n",
    "    while 1:\n",
    "        webcampicture(picture_path)                                 # 采集图片并保存\n",
    "        faceRecognition(picture_path)                               # 人脸识别"
   ]
  },
  {
   "cell_type": "code",
   "execution_count": null,
   "metadata": {},
   "outputs": [],
   "source": []
  }
 ],
 "metadata": {
  "kernelspec": {
   "display_name": "Python 3",
   "language": "python",
   "name": "python3"
  },
  "language_info": {
   "codemirror_mode": {
    "name": "ipython",
    "version": 3
   },
   "file_extension": ".py",
   "mimetype": "text/x-python",
   "name": "python",
   "nbconvert_exporter": "python",
   "pygments_lexer": "ipython3",
   "version": "3.6.5"
  }
 },
 "nbformat": 4,
 "nbformat_minor": 2
}
