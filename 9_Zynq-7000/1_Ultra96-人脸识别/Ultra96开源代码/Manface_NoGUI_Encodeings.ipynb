{
 "cells": [
  {
   "cell_type": "code",
   "execution_count": 1,
   "metadata": {},
   "outputs": [],
   "source": [
    "import os\n",
    "import cv2\n",
    "import numpy as np\n",
    "import face_recognition\n",
    "\n",
    "Image_database_path = 'Picture_database'            # 图像数据库路径\n",
    "images = []                                         # 数据库所有图像数据集合\n",
    "EncodeingList = []                                  # 数据库所有图像编码集合\n",
    "classNames = []                                     # 数据库所有图像的名称（分类）"
   ]
  },
  {
   "cell_type": "code",
   "execution_count": 2,
   "metadata": {},
   "outputs": [],
   "source": [
    "# 读取图像数据库\n",
    "def readImageDatabase(Image_database_path):\n",
    "    imgList = os.listdir(Image_database_path)                       # 列出图像数据库的所有图片名称列表\n",
    "    for pic in imgList:                                             # 读取数据库\n",
    "        img = cv2.imread('{}/{}'.format(Image_database_path, pic))  # 读取数据库其中一张图片的数据\n",
    "        images.append(img)                                          # 将读取到的图片数据存入列表\n",
    "        classNames.append(os.path.splitext(pic)[0])                 # 存入图片对应的名字\n",
    "    print('Image_database include:', classNames)\n",
    "\n",
    "\n",
    "# 对人脸集合进行编码处理\n",
    "def findEncodeings(images):\n",
    "    for img in images:\n",
    "        img = cv2.cvtColor(src=img, code=cv2.COLOR_BGR2RGB)         # 对img进行灰度处理\n",
    "        encode = face_recognition.face_encodings(img)[0]            # face_encodings对图片对象a_images进行编码并返回数组0位置编码结果\n",
    "        EncodeingList.append(encode)                                # 把编码存储在编码列表中\n",
    "    print(EncodeingList)\n",
    "    print('Coding is complete !!!')\n",
    "    if not os.path.exists(\"database\"):                              # 如果不存在数据库文件夹就创建（保存编码后数据）\n",
    "        os.mkdir(\"database\")\n",
    "    np.savez('database/EncodeingList', EncodeingList)               # 保存编码数据库以数据及名称\n",
    "    np.savez('database/classNames', classNames)"
   ]
  },
  {
   "cell_type": "code",
   "execution_count": null,
   "metadata": {},
   "outputs": [],
   "source": [
    "if __name__ == '__main__':\n",
    "    readImageDatabase(Image_database_path)  # 读取数据库\n",
    "    findEncodeings(images)                  # 对数据库进行编码处理\n"
   ]
  },
  {
   "cell_type": "code",
   "execution_count": null,
   "metadata": {},
   "outputs": [],
   "source": []
  },
  {
   "cell_type": "code",
   "execution_count": null,
   "metadata": {},
   "outputs": [],
   "source": []
  }
 ],
 "metadata": {
  "kernelspec": {
   "display_name": "Python 3",
   "language": "python",
   "name": "python3"
  },
  "language_info": {
   "codemirror_mode": {
    "name": "ipython",
    "version": 3
   },
   "file_extension": ".py",
   "mimetype": "text/x-python",
   "name": "python",
   "nbconvert_exporter": "python",
   "pygments_lexer": "ipython3",
   "version": "3.6.5"
  }
 },
 "nbformat": 4,
 "nbformat_minor": 2
}
