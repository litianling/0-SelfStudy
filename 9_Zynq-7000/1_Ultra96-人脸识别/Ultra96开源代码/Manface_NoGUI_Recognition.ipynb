{
 "cells": [
  {
   "cell_type": "code",
   "execution_count": 1,
   "metadata": {},
   "outputs": [],
   "source": [
    "import cv2\n",
    "import numpy as np\n",
    "import face_recognition\n",
    "\n",
    "picture_path = 'Picture_datatest/DATAtest.jpg'      # 要识别的图片路径"
   ]
  },
  {
   "cell_type": "code",
   "execution_count": 2,
   "metadata": {},
   "outputs": [],
   "source": [
    "# 人脸识别的主体\n",
    "def faceRecognition(picture_path):\n",
    "    frame = cv2.imread(picture_path)                                                    # 读取待识别图片\n",
    "    frameRGB = cv2.cvtColor(src=frame, code=cv2.COLOR_BGR2RGB)\n",
    "    facesLocate = face_recognition.face_locations(frameRGB)                             # 对摄像头读取的检测人脸\n",
    "    faceEncoded = face_recognition.face_encodings(frameRGB, facesLocate)                # 进行特征编码\n",
    "    for face_encoding in faceEncoded:                                                   # 遍历检测的人脸和库中读取的图片进行对比，计算其相似度\n",
    "        matchs = face_recognition.compare_faces(EncodeingList, face_encoding)           # 进行匹配\n",
    "        distance = face_recognition.face_distance(EncodeingList, face_encoding)         # 计算相似度\n",
    "        lab = 'unknow'\n",
    "        for index, item in enumerate(distance):\n",
    "            Similarity = 1 - item\n",
    "            if Similarity > 0.7:\n",
    "                if matchs[index]:\n",
    "                    lab = 'name:{}; Similarity:{}'.format(classNames[index], Similarity)  # 得到匹配到的图片名称与相似度值\n",
    "                    break\n",
    "        print(lab)                                                                      # 输出识别信息"
   ]
  },
  {
   "cell_type": "code",
   "execution_count": 3,
   "metadata": {},
   "outputs": [
    {
     "name": "stdout",
     "output_type": "stream",
     "text": [
      "name:LiTianling; Similarity:0.7333831703686169\n"
     ]
    }
   ],
   "source": [
    "if __name__ == '__main__':\n",
    "    EncodeingList = np.load('database/EncodeingList.npz')       # 导入数据库_______数据库所有图像编码集合\n",
    "    EncodeingList = EncodeingList['arr_0']\n",
    "    classNames = np.load('database/classNames.npz')             # 导入数据库_______数据库所有图像的名称（分类）\n",
    "    classNames = classNames['arr_0']\n",
    "    faceRecognition(picture_path)                               # 人脸识别"
   ]
  },
  {
   "cell_type": "code",
   "execution_count": null,
   "metadata": {},
   "outputs": [],
   "source": []
  }
 ],
 "metadata": {
  "kernelspec": {
   "display_name": "Python 3",
   "language": "python",
   "name": "python3"
  },
  "language_info": {
   "codemirror_mode": {
    "name": "ipython",
    "version": 3
   },
   "file_extension": ".py",
   "mimetype": "text/x-python",
   "name": "python",
   "nbconvert_exporter": "python",
   "pygments_lexer": "ipython3",
   "version": "3.6.5"
  }
 },
 "nbformat": 4,
 "nbformat_minor": 2
}
