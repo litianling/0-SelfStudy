{
 "cells": [
  {
   "cell_type": "code",
   "execution_count": 1,
   "metadata": {},
   "outputs": [
    {
     "data": {
      "application/javascript": [
       "\n",
       "require(['notebook/js/codecell'], function(codecell) {\n",
       "  codecell.CodeCell.options_default.highlight_modes[\n",
       "      'magic_text/x-csrc'] = {'reg':[/^%%microblaze/]};\n",
       "  Jupyter.notebook.events.one('kernel_ready.Kernel', function(){\n",
       "      Jupyter.notebook.get_cells().map(function(cell){\n",
       "          if (cell.cell_type == 'code'){ cell.auto_highlight(); } }) ;\n",
       "  });\n",
       "});\n"
      ]
     },
     "metadata": {},
     "output_type": "display_data"
    }
   ],
   "source": [
    "import os\n",
    "from pynq import Overlay\n",
    "from pynq import Xlnk\n",
    "import numpy as np\n",
    "from struct import unpack                  # 30*30图片数据结构：62无用字节 + 30行 * 每行4字节（四个字节有两个比特是多余的）\n",
    "import time\n",
    "\n",
    "overlay = Overlay(\"./bit/forw_back_new_network.bit\")\n",
    "core = overlay.forw_back_0"
   ]
  },
  {
   "cell_type": "code",
   "execution_count": 2,
   "metadata": {},
   "outputs": [],
   "source": [
    "def read_image(image_path):                 # 30*30图片数据结构：62无用字节 + 30行 * 每行4字节（四个字节有两个比特是多余的）\n",
    "    img = open(image_path, 'rb')                # 打开一张图片\n",
    "    img.seek(62)                                # 跳过前62个没用的字节\n",
    "    nums = []\n",
    "    and_list = [1, 2, 4, 8, 16, 32, 64, 128]    # 辅助从字节中提取比特\n",
    "    for i in range(120):\n",
    "        num = unpack(\"B\", img.read(1))[0]       # 从头开始逐一读取120个字节\n",
    "        for j in range(8):                     # 遍历8个bit\n",
    "            if (i % 4 == 3) and (j >= 6):      # 检测到两个多余bit就跳过\n",
    "                continue\n",
    "            nums.append(((num & and_list[7 - j]) == and_list[7 - j]))  # 真实数据就放到列表后面\n",
    "    return np.array(nums, dtype=int)"
   ]
  },
  {
   "cell_type": "code",
   "execution_count": 3,
   "metadata": {},
   "outputs": [],
   "source": [
    "# 向PL端口输入数据——将xlnk接口地址写入PL端接口地址\n",
    "# 地址可在HLS下solution1/impl/misc/drivers/forw_back_v0_0/src/xforw_back_hw.h可查\n",
    "# 地址也可在SDK下system.hdf文件IP blocks present in the design部分Registers可查\n",
    "\n",
    "\n",
    "# 导入导出参数 flag==0导入，flag>4导出\n",
    "def Import_export_parameter(flag, conv1, conv2, fc1, fc2):\n",
    "    core.write(0x10, flag)\n",
    "    core.write(0x20, conv1)\n",
    "    core.write(0x28, conv2)\n",
    "    core.write(0x30, fc1)\n",
    "    core.write(0x38, fc2)\n",
    "    core.write(0x00, 0x01)\n",
    "    while(core.read(0x00)!=4):\n",
    "        i = 1\n",
    "    return 0\n",
    "\n",
    "# 导入一张图像 flag==1\n",
    "def Import_a_image(flag, in_d):\n",
    "    core.write(0x10, flag)\n",
    "    core.write(0x18, in_d)\n",
    "    core.write(0x00, 0x01)\n",
    "    while(core.read(0x00)!=4):  # 如果0x00!=4就代表PL端还在运行\n",
    "        i = 1\n",
    "    return 0\n",
    "\n",
    "# 开始测试 flag==2\n",
    "def Begin_test(flag):\n",
    "    core.write(0x10, flag)\n",
    "    core.write(0x00, 0x01)\n",
    "    while(core.read(0x00)!=4):  # 如果0x00!=4就代表PL端还在运行\n",
    "        i = 1\n",
    "    return 0\n",
    "\n",
    "# 开始训练 flag==3\n",
    "def Begin_train(flag, label, lr):\n",
    "    core.write(0x10, flag)\n",
    "    core.write(0x48, label)\n",
    "    core.write(0x50, lr)\n",
    "    core.write(0x00, 0x01)\n",
    "    while(core.read(0x00)!=4):\n",
    "        i = 1\n",
    "    return 0\n",
    "\n",
    "# 导出结果 flag==4\n",
    "def Export_result(flag, out):\n",
    "    core.write(0x10, flag)\n",
    "    core.write(0x40, out)\n",
    "    core.write(0x00, 0x01)\n",
    "    while(core.read(0x00)!=4):\n",
    "        i = 1\n",
    "    return 0"
   ]
  },
  {
   "cell_type": "code",
   "execution_count": 4,
   "metadata": {},
   "outputs": [],
   "source": [
    "def max10(data):          # 取最大值函数\n",
    "    for i in range(10):\n",
    "        if(data[i] == max(data)):\n",
    "            location = i\n",
    "            break\n",
    "    return location"
   ]
  },
  {
   "cell_type": "code",
   "execution_count": 5,
   "metadata": {},
   "outputs": [],
   "source": [
    "xlnk = Xlnk()            # 该接口必须申请内存后才能被IP使用，可以使用xlnk来申请一段连续内存缓冲区，该缓冲区允许PS跟PL之间进行有效的数据传输\n",
    "\n",
    "# 给每个接口分配空间\n",
    "data_in = xlnk.cma_array(shape=(30*30,), dtype=np.float32)\n",
    "conv1 = xlnk.cma_array(shape=(9,), dtype=np.float32)\n",
    "conv2 = xlnk.cma_array(shape=(9,), dtype=np.float32)\n",
    "fc1 = xlnk.cma_array(shape=(36*20,), dtype=np.float32)\n",
    "fc2 = xlnk.cma_array(shape=(20*10,), dtype=np.float32)\n",
    "data_out = xlnk.cma_array(shape=(10,), dtype=np.float32)\n",
    "\n",
    "\n",
    "# 打开网络参数文件\n",
    "para = open(\"./NetworkParameters_newnetwork.bin\", \"rb\")\n",
    "\n",
    "# 读取卷积核参数\n",
    "for i in range(9):\n",
    "    data = para.read(4)\n",
    "    conv1[i] = unpack(\"f\", data)[0]\n",
    "for i in range(9):\n",
    "    data = para.read(4)\n",
    "    conv2[i] = unpack(\"f\", data)[0]\n",
    "    \n",
    "# 读取全连接系数矩阵参数\n",
    "for i in range(36*20):\n",
    "    data = para.read(4)\n",
    "    fc1[i] = unpack(\"f\", data)[0]\n",
    "for i in range(20*10):\n",
    "    data = para.read(4)\n",
    "    fc2[i] = unpack(\"f\", data)[0]"
   ]
  },
  {
   "cell_type": "code",
   "execution_count": 8,
   "metadata": {},
   "outputs": [
    {
     "data": {
      "image/png": "[encoded data removed]",
      "text/plain": [
       "<matplotlib.figure.Figure at 0x7f619beb38>"
      ]
     },
     "metadata": {},
     "output_type": "display_data"
    },
    {
     "name": "stdout",
     "output_type": "stream",
     "text": [
      "Prediction result is: 3\n",
      "Prediction probability is: 0.9267924\n"
     ]
    },
    {
     "data": {
      "image/png": "[encoded data removed]",
      "text/plain": [
       "<matplotlib.figure.Figure at 0x7f619adc88>"
      ]
     },
     "metadata": {},
     "output_type": "display_data"
    },
    {
     "name": "stdout",
     "output_type": "stream",
     "text": [
      "Prediction result is: 7\n",
      "Prediction probability is: 0.9479632\n"
     ]
    },
    {
     "data": {
      "image/png": "[encoded data removed]",
      "text/plain": [
       "<matplotlib.figure.Figure at 0x7f637ae860>"
      ]
     },
     "metadata": {},
     "output_type": "display_data"
    },
    {
     "name": "stdout",
     "output_type": "stream",
     "text": [
      "Prediction result is: 9\n",
      "Prediction probability is: 0.86237395\n"
     ]
    },
    {
     "data": {
      "image/png": "[encoded data removed]",
      "text/plain": [
       "<matplotlib.figure.Figure at 0x7f61da4fd0>"
      ]
     },
     "metadata": {},
     "output_type": "display_data"
    },
    {
     "name": "stdout",
     "output_type": "stream",
     "text": [
      "Prediction result is: 8\n",
      "Prediction probability is: 0.7231446\n"
     ]
    },
    {
     "data": {
      "image/png": "[encoded data removed]",
      "text/plain": [
       "<matplotlib.figure.Figure at 0x7f619fda90>"
      ]
     },
     "metadata": {},
     "output_type": "display_data"
    },
    {
     "name": "stdout",
     "output_type": "stream",
     "text": [
      "Prediction result is: 0\n",
      "Prediction probability is: 0.9999713\n"
     ]
    },
    {
     "data": {
      "image/png": "[encoded data removed]",
      "text/plain": [
       "<matplotlib.figure.Figure at 0x7f6197cf28>"
      ]
     },
     "metadata": {},
     "output_type": "display_data"
    },
    {
     "name": "stdout",
     "output_type": "stream",
     "text": [
      "Prediction result is: 2\n",
      "Prediction probability is: 0.96170765\n"
     ]
    },
    {
     "data": {
      "image/png": "[encoded data removed]",
      "text/plain": [
       "<matplotlib.figure.Figure at 0x7f61a59d30>"
      ]
     },
     "metadata": {},
     "output_type": "display_data"
    },
    {
     "name": "stdout",
     "output_type": "stream",
     "text": [
      "Prediction result is: 5\n",
      "Prediction probability is: 0.99554616\n"
     ]
    },
    {
     "data": {
      "image/png": "[encoded data removed]",
      "text/plain": [
       "<matplotlib.figure.Figure at 0x7f61c48eb8>"
      ]
     },
     "metadata": {},
     "output_type": "display_data"
    },
    {
     "name": "stdout",
     "output_type": "stream",
     "text": [
      "Prediction result is: 1\n",
      "Prediction probability is: 0.8671733\n"
     ]
    },
    {
     "data": {
      "image/png": "[encoded data removed]",
      "text/plain": [
       "<matplotlib.figure.Figure at 0x7f61ac4f60>"
      ]
     },
     "metadata": {},
     "output_type": "display_data"
    },
    {
     "name": "stdout",
     "output_type": "stream",
     "text": [
      "Prediction result is: 6\n",
      "Prediction probability is: 0.99678534\n"
     ]
    },
    {
     "data": {
      "image/png": "[encoded data removed]",
      "text/plain": [
       "<matplotlib.figure.Figure at 0x7f6191fa90>"
      ]
     },
     "metadata": {},
     "output_type": "display_data"
    },
    {
     "name": "stdout",
     "output_type": "stream",
     "text": [
      "Prediction result is: 4\n",
      "Prediction probability is: 0.98580307\n",
      "Running time: 0.0006501674652099609 Seconds\n"
     ]
    }
   ],
   "source": [
    "import matplotlib.pyplot as plt\n",
    "import matplotlib.image as mpimg\n",
    "\n",
    "test_image_dir_path = './Training_set/Test_set/'\n",
    "test_images = os.listdir(test_image_dir_path)\n",
    "\n",
    "# 0 导入初始化参数\n",
    "Import_export_parameter(0, conv1.physical_address, conv2.physical_address, fc1.physical_address, fc2.physical_address)\n",
    "\n",
    "for test_image in test_images:\n",
    "    test_image_path = test_image_dir_path + test_image\n",
    "    picture_data = read_image(test_image_path)\n",
    "    for i in range(30*30):\n",
    "        data_in[i] = picture_data[i]\n",
    "    # 1 导入一张图片数据\n",
    "    Import_a_image(1, data_in.physical_address)\n",
    "    start = time.time()\n",
    "    # 3 开始测试\n",
    "    Begin_test(2)\n",
    "    end = time.time()\n",
    "    # 4 导出训练结果\n",
    "    Export_result(4, data_out.physical_address)\n",
    "    \n",
    "    # print('Picture name is:',test_image,'   Prediction result is:',max10(data_out),'   Prediction probability is:',data_out[max10(data_out)])\n",
    "    frame = mpimg.imread(test_image_dir_path + test_image)             # 读取待识别图片\n",
    "    frame.shape\n",
    "    plt.imshow(frame)                                                  # 显示图片\n",
    "    plt.show()\n",
    "    print('Prediction result is:',max10(data_out))\n",
    "    print('Prediction probability is:',data_out[max10(data_out)])\n",
    "print('Running time: %s Seconds'%((end-start)))\n"
   ]
  },
  {
   "cell_type": "code",
   "execution_count": null,
   "metadata": {},
   "outputs": [],
   "source": []
  }
 ],
 "metadata": {
  "kernelspec": {
   "display_name": "Python 3",
   "language": "python",
   "name": "python3"
  },
  "language_info": {
   "codemirror_mode": {
    "name": "ipython",
    "version": 3
   },
   "file_extension": ".py",
   "mimetype": "text/x-python",
   "name": "python",
   "nbconvert_exporter": "python",
   "pygments_lexer": "ipython3",
   "version": "3.6.5"
  }
 },
 "nbformat": 4,
 "nbformat_minor": 2
}
