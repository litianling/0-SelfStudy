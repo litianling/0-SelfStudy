{
 "cells": [
  {
   "cell_type": "code",
   "execution_count": 1,
   "metadata": {},
   "outputs": [
    {
     "data": {
      "application/javascript": [
       "\n",
       "require(['notebook/js/codecell'], function(codecell) {\n",
       "  codecell.CodeCell.options_default.highlight_modes[\n",
       "      'magic_text/x-csrc'] = {'reg':[/^%%microblaze/]};\n",
       "  Jupyter.notebook.events.one('kernel_ready.Kernel', function(){\n",
       "      Jupyter.notebook.get_cells().map(function(cell){\n",
       "          if (cell.cell_type == 'code'){ cell.auto_highlight(); } }) ;\n",
       "  });\n",
       "});\n"
      ]
     },
     "metadata": {},
     "output_type": "display_data"
    }
   ],
   "source": [
    "from pynq import Overlay\n",
    "overlay = Overlay(\"./bit/forw_back.bit\")  # ./bit/forw_back.bit  和  ./bit/model.bit\n",
    "core = overlay.forw_back_0                # 和Vivado中自定义IP名字相同  overlay?可查"
   ]
  },
  {
   "cell_type": "code",
   "execution_count": 2,
   "metadata": {},
   "outputs": [],
   "source": [
    "def net(flag, in_d, conv1, conv2, conv3, fc1, fc2, fc3, out, label):   # 向PL端口输入数据\n",
    "    core.write(0x10, flag)    # 地址可在HLS下solution1/impl/misc/drivers/forw_back_v0_0/src/xforw_back_hw.h可查\n",
    "    core.write(0x18, in_d)    # 地址也可在SDK下system.hdf文件IP blocks present in the design部分Registers可查\n",
    "    core.write(0x20, conv1)\n",
    "    core.write(0x28, conv2)\n",
    "    core.write(0x30, conv3)\n",
    "    core.write(0x38, fc1)\n",
    "    core.write(0x40, fc2)\n",
    "    core.write(0x48, fc3)\n",
    "    core.write(0x50, out)\n",
    "    core.write(0x58, label)\n",
    "    core.write(0x00, 0x01)\n",
    "    while(core.read(0x00)!=4):  # 如果0x00!=4就代表PL端还在运行\n",
    "        i = 1\n",
    "    return 0"
   ]
  },
  {
   "cell_type": "code",
   "execution_count": 3,
   "metadata": {},
   "outputs": [],
   "source": [
    "def max10(data):          # 取最大值函数\n",
    "    for i in range(10):\n",
    "        if(data[i] == max(data)):\n",
    "            location = i\n",
    "            break\n",
    "    return location"
   ]
  },
  {
   "cell_type": "code",
   "execution_count": 4,
   "metadata": {},
   "outputs": [],
   "source": [
    "from pynq import Xlnk\n",
    "import numpy as np\n",
    "\n",
    "xlnk = Xlnk()            # 该接口必须申请内存后才能被IP使用，可以使用xlnk来申请一段连续内存缓冲区，该缓冲区允许PS跟PL之间进行有效的数据传输"
   ]
  },
  {
   "cell_type": "code",
   "execution_count": 5,
   "metadata": {},
   "outputs": [],
   "source": [
    "# 给每个接口分配空间\n",
    "data_in = xlnk.cma_array(shape=(30*30,), dtype=np.float32)\n",
    "conv1 = xlnk.cma_array(shape=(9,), dtype=np.float32)\n",
    "conv2 = xlnk.cma_array(shape=(9,), dtype=np.float32)\n",
    "conv3 = xlnk.cma_array(shape=(9,), dtype=np.float32)\n",
    "fc1 = xlnk.cma_array(shape=(576*180,), dtype=np.float32)\n",
    "fc2 = xlnk.cma_array(shape=(180*45,), dtype=np.float32)\n",
    "fc3 = xlnk.cma_array(shape=(45*10,), dtype=np.float32)\n",
    "data_out = xlnk.cma_array(shape=(10,), dtype=np.float32)"
   ]
  },
  {
   "cell_type": "code",
   "execution_count": 6,
   "metadata": {},
   "outputs": [],
   "source": [
    "from struct import unpack                  # 30*30图片数据结构：62无用字节 + 30行 * 每行4字节（四个字节有两个比特是多余的）\n",
    "\n",
    "img = open(\"./Training_set/7/2.bmp\", 'rb')  # 打开一张图片\n",
    "img.seek(62)                                # 跳过前62个没用的字节\n",
    "nums = []\n",
    "and_list = [1, 2, 4, 8, 16, 32, 64, 128]    # 辅助从字节中提取比特\n",
    "for i in range(120):\n",
    "    num = unpack(\"B\", img.read(1))[0]       # 从头开始逐一读取120个字节\n",
    "    for j in range(8):                     # 遍历8个bit\n",
    "        if (i % 4 == 3) and (j >= 6):      # 检测到两个多余bit就跳过\n",
    "            continue\n",
    "        nums.append(((num & and_list[7 - j]) == and_list[7 - j]))  # 真实数据就放到列表后面\n",
    "\n",
    "x = np.array(nums, dtype=int)               # 把图片数据列表转换成数组"
   ]
  },
  {
   "cell_type": "code",
   "execution_count": 7,
   "metadata": {},
   "outputs": [],
   "source": [
    "# 打开网络参数文件\n",
    "para = open(\"./Network_parameter.bin\", \"rb\")\n",
    "\n",
    "# 读取卷积核参数\n",
    "for i in range(9):\n",
    "    data = para.read(4)\n",
    "    conv1[i] = unpack(\"f\", data)[0]\n",
    "\n",
    "for i in range(9):\n",
    "    data = para.read(4)\n",
    "    conv2[i] = unpack(\"f\", data)[0]\n",
    "\n",
    "for i in range(9):\n",
    "    data = para.read(4)\n",
    "    conv3[i] = unpack(\"f\", data)[0]\n",
    "    \n",
    "# 读取全连接系数矩阵参数\n",
    "for i in range(576*180):\n",
    "    data = para.read(4)\n",
    "    fc1[i] = unpack(\"f\", data)[0]\n",
    "\n",
    "for i in range(180*45):\n",
    "    data = para.read(4)\n",
    "    fc2[i] = unpack(\"f\", data)[0]\n",
    "\n",
    "for i in range(45*10):\n",
    "    data = para.read(4)\n",
    "    fc3[i] = unpack(\"f\", data)[0]"
   ]
  },
  {
   "cell_type": "code",
   "execution_count": 8,
   "metadata": {},
   "outputs": [],
   "source": [
    "# 复制图片数据\n",
    "for i in range(30*30):\n",
    "    data_in[i] = x[i]\n",
    "    # print(data_in[i], end=\" \" if i % 30 != 29 else \"\\n\")"
   ]
  },
  {
   "cell_type": "code",
   "execution_count": 9,
   "metadata": {},
   "outputs": [
    {
     "data": {
      "text/plain": [
       "0"
      ]
     },
     "execution_count": 9,
     "metadata": {},
     "output_type": "execute_result"
    }
   ],
   "source": [
    "# 将图片数据传到网络计算\n",
    "net(0, data_in.physical_address, conv1.physical_address, conv2.physical_address, conv3.physical_address, \n",
    "   fc1.physical_address, fc2.physical_address, fc3.physical_address, data_out.physical_address, 0)"
   ]
  },
  {
   "cell_type": "code",
   "execution_count": 10,
   "metadata": {},
   "outputs": [
    {
     "name": "stdout",
     "output_type": "stream",
     "text": [
      "7\n"
     ]
    }
   ],
   "source": [
    "# 输出识别结果（可能性最大的那一张）\n",
    "print(max10(data_out))"
   ]
  },
  {
   "cell_type": "code",
   "execution_count": 11,
   "metadata": {},
   "outputs": [
    {
     "name": "stdout",
     "output_type": "stream",
     "text": [
      "7\n"
     ]
    }
   ],
   "source": [
    "# 输出实际结果\n",
    "lbb = []\n",
    "for i in range(10):\n",
    "    lbb.append(i)\n",
    "\n",
    "print(lbb[7])"
   ]
  },
  {
   "cell_type": "code",
   "execution_count": null,
   "metadata": {},
   "outputs": [],
   "source": []
  }
 ],
 "metadata": {
  "kernelspec": {
   "display_name": "Python 3",
   "language": "python",
   "name": "python3"
  },
  "language_info": {
   "codemirror_mode": {
    "name": "ipython",
    "version": 3
   },
   "file_extension": ".py",
   "mimetype": "text/x-python",
   "name": "python",
   "nbconvert_exporter": "python",
   "pygments_lexer": "ipython3",
   "version": "3.6.5"
  }
 },
 "nbformat": 4,
 "nbformat_minor": 2
}
